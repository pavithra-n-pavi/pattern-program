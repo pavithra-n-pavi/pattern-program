{
 "cells": [
  {
   "cell_type": "code",
   "execution_count": 35,
   "id": "ca728da6-d5d1-470e-9945-ec3ae9ee4ab9",
   "metadata": {},
   "outputs": [
    {
     "name": "stdout",
     "output_type": "stream",
     "text": [
      "****\n",
      "****\n",
      "****\n",
      "****\n"
     ]
    }
   ],
   "source": [
    "#printing patterns \n",
    "rows=4\n",
    "for i in range(1, rows + 1):\n",
    "    print(\"*\" *4 )"
   ]
  },
  {
   "cell_type": "code",
   "execution_count": 17,
   "id": "039156af-eaf2-485f-a9dd-8101fae78b75",
   "metadata": {},
   "outputs": [
    {
     "name": "stdout",
     "output_type": "stream",
     "text": [
      " *\n",
      " * *\n",
      " * * *\n",
      " * * * *\n",
      " * * * * *\n",
      " * * * * * *\n"
     ]
    }
   ],
   "source": [
    "rows=6\n",
    "for i in range (1,rows+1):\n",
    "    print(\" *\" *i)"
   ]
  },
  {
   "cell_type": "code",
   "execution_count": 13,
   "id": "4c35dc73-d68b-4baa-b7d9-b87b0c5f28fe",
   "metadata": {},
   "outputs": [
    {
     "name": "stdout",
     "output_type": "stream",
     "text": [
      " * * * * *\n",
      " * * * *\n",
      " * * *\n",
      " * *\n",
      " *\n"
     ]
    }
   ],
   "source": [
    "rows=5\n",
    "for i in range (rows,0,-1):\n",
    "    print(\" *\" *i)"
   ]
  },
  {
   "cell_type": "code",
   "execution_count": 89,
   "id": "567ab2e7-9f76-4dc4-8716-aadb94949a90",
   "metadata": {},
   "outputs": [
    {
     "name": "stdout",
     "output_type": "stream",
     "text": [
      " ****\n",
      "  ****\n",
      "   ****\n",
      "    ****\n"
     ]
    }
   ],
   "source": [
    "rows=4\n",
    "for i  in range(4):\n",
    "    print (\" \" *i ,\"*\" *4) "
   ]
  },
  {
   "cell_type": "code",
   "execution_count": 77,
   "id": "3f497483-5951-4911-9a40-2ed0e3f944c9",
   "metadata": {},
   "outputs": [
    {
     "name": "stdout",
     "output_type": "stream",
     "text": [
      " *\n",
      " * *\n",
      " * * *\n"
     ]
    }
   ],
   "source": [
    "rows=5\n",
    "for i in range(1,rows-1):\n",
    "    print(\" \" \"*\" *i)"
   ]
  },
  {
   "cell_type": "code",
   "execution_count": 7,
   "id": "41d2cc2d-2560-4093-9a38-378013450736",
   "metadata": {},
   "outputs": [
    {
     "name": "stdout",
     "output_type": "stream",
     "text": [
      "*****\n",
      "*****\n",
      "*****\n",
      "*****\n",
      "*****\n"
     ]
    }
   ],
   "source": [
    "#printing pattern using nested loop\n",
    "n=5\n",
    "for i in range(n):\n",
    "    for j in range(1,n+1):\n",
    "        print(\"*\" ,end=\"\")\n",
    "    print()"
   ]
  },
  {
   "cell_type": "code",
   "execution_count": 7,
   "id": "90003401-e24b-4b55-b2bf-612861c1a922",
   "metadata": {},
   "outputs": [
    {
     "name": "stdout",
     "output_type": "stream",
     "text": [
      "      *\n",
      "\n",
      "     **\n",
      "\n",
      "    ***\n",
      "\n",
      "   ****\n",
      "\n",
      "  *****\n",
      "\n"
     ]
    }
   ],
   "source": [
    "n=6\n",
    "for i in range(1,6):\n",
    "    for j in range (1):\n",
    "        print(' '*(n-1),i*\"*\")\n",
    "        n=n-1\n",
    "    print()\n",
    "        "
   ]
  },
  {
   "cell_type": "code",
   "execution_count": 19,
   "id": "28917ea5-4c01-4c29-b74b-b03eea349404",
   "metadata": {},
   "outputs": [
    {
     "name": "stdout",
     "output_type": "stream",
     "text": [
      " *\n",
      " * *\n",
      " * * *\n",
      " * * * *\n",
      " * * * * *\n",
      " * * * * * *\n"
     ]
    }
   ],
   "source": [
    "n=5\n",
    "for i in range (n+1):\n",
    "    for j in range(1+i):\n",
    "        print(\" *\",end=\"\")\n",
    "    print()"
   ]
  },
  {
   "cell_type": "code",
   "execution_count": 51,
   "id": "16998c4f-ec19-4d17-b66e-ff09d7f13208",
   "metadata": {},
   "outputs": [
    {
     "name": "stdout",
     "output_type": "stream",
     "text": [
      "* * * * \n",
      "*     * \n",
      "*     * \n",
      "* * * * \n"
     ]
    }
   ],
   "source": [
    "rows = 4\n",
    "columns =4\n",
    "for i in range(rows):\n",
    "    for j in range(columns):\n",
    "        if i == 0 or i == rows - 1 or j == 0 or j == columns - 1:\n",
    "            print(\"*\", end=\" \")\n",
    "        else:\n",
    "            print(\" \", end=\" \")\n",
    "    print()"
   ]
  },
  {
   "cell_type": "code",
   "execution_count": 9,
   "id": "95d1a85c-8faa-4afa-a398-820607efbd9f",
   "metadata": {},
   "outputs": [
    {
     "name": "stdout",
     "output_type": "stream",
     "text": [
      "       *\n",
      "      * *\n",
      "     * * *\n",
      "    * * * *\n",
      "   * * * * *\n"
     ]
    }
   ],
   "source": [
    "#write a program to print the given pattern\n",
    "n=6\n",
    "for i in range(1,6):\n",
    "    for j in range(1):\n",
    "        print(\" \"*(n-1),i*' *')\n",
    "        n=n-1"
   ]
  },
  {
   "cell_type": "code",
   "execution_count": null,
   "id": "27604289-a5cc-4af7-bb8c-f0661817a295",
   "metadata": {},
   "outputs": [],
   "source": []
  }
 ],
 "metadata": {
  "kernelspec": {
   "display_name": "Python 3 (ipykernel)",
   "language": "python",
   "name": "python3"
  },
  "language_info": {
   "codemirror_mode": {
    "name": "ipython",
    "version": 3
   },
   "file_extension": ".py",
   "mimetype": "text/x-python",
   "name": "python",
   "nbconvert_exporter": "python",
   "pygments_lexer": "ipython3",
   "version": "3.12.4"
  }
 },
 "nbformat": 4,
 "nbformat_minor": 5
}
